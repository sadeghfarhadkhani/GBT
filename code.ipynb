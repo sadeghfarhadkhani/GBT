{
  "cells": [
    {
      "cell_type": "markdown",
      "source": [
        "## Software dependencies:\n",
        "Besides the standard libraries associated with Python 3.10.12, our scripts have been tested with:\n",
        "\n",
        "numpy 1.23.5\n",
        "\n",
        "matplotlib 3.7.1\n",
        "\n",
        "\n",
        "torch 2.0.1+cu11\n",
        "\n",
        "## Hardware dependencies\n",
        "We list below the hardware components used:\n",
        "\n",
        "1 Intel(R) Xeon(R) CPU @ 2.30GHz\n",
        "\n",
        "1 Nvidia Tesla V100\n",
        "\n",
        "16 GB of RAM\n",
        "\n",
        "The code takes less than 10 minutes to run on this hardware.\n",
        "\n",
        "## Reproduciblity\n",
        "In order to run each experiment, first run all the code in the Prelimanaries section, and then run the appropriate cell for the experiment.\n",
        "\n",
        "We run each experiment with ten seeds from 1 to 10 for reproducibility purposes.\n",
        "\n",
        "To optimize the GBT loss, we use LBFGS optimizer which is a quasi-Newton method: https://pytorch.org/docs/stable/generated/torch.optim.LBFGS.html\n",
        "\n",
        "Since the GBT loss is strongly convex, the convergence speed of this algorithm is exremely fast and it converges to the optimum in two iterations with a very small error.\n",
        "\n",
        "We ran each experiment around 20 times in total (e.g., for debugging) to obtain the desired result.  \n",
        "\n"
      ],
      "metadata": {
        "id": "hPZAX-rUHgWD"
      }
    },
    {
      "cell_type": "markdown",
      "source": [
        "# Prelimanaries"
      ],
      "metadata": {
        "id": "k9wCTiSHXiaI"
      }
    },
    {
      "cell_type": "markdown",
      "metadata": {
        "id": "fwIVumsuaG1B"
      },
      "source": [
        "## Imports"
      ]
    },
    {
      "cell_type": "code",
      "execution_count": 1,
      "metadata": {
        "id": "UK9Ohu7xot4U",
        "colab": {
          "base_uri": "https://localhost:8080/"
        },
        "outputId": "47359fdc-1310-44e2-bf76-54bbe883cd57"
      },
      "outputs": [
        {
          "output_type": "stream",
          "name": "stdout",
          "text": [
            "cuda\n"
          ]
        }
      ],
      "source": [
        "import numpy as np\n",
        "from matplotlib import pyplot as plt\n",
        "\n",
        "import random\n",
        "import copy\n",
        "from tqdm.notebook import tqdm, trange\n",
        "from collections import defaultdict\n",
        "import torch\n",
        "\n",
        "import time\n",
        "import pandas as pd\n",
        "from torch import log, sinh, cosh\n",
        "from IPython.display import display, clear_output\n",
        "import ipywidgets as widgets\n",
        "\n",
        "# for GPU:\n",
        "device = torch.device('cuda' if torch.cuda.is_available() else 'cpu')\n",
        "torch.backends.cuda.matmul.allow_tf32 = False\n",
        "print(device)"
      ]
    },
    {
      "cell_type": "markdown",
      "metadata": {
        "id": "B9f_gWHf5HHC"
      },
      "source": [
        "## PLOT Functions\n"
      ]
    },
    {
      "cell_type": "code",
      "execution_count": null,
      "metadata": {
        "id": "qszs8TMw_YTc"
      },
      "outputs": [],
      "source": [
        "def disp(arr, precision=2):\n",
        "    print(np.round(np.array(arr), precision))\n",
        "\n",
        "def seedall(seed):\n",
        "    np.random.seed(seed)\n",
        "    torch.manual_seed(seed)\n",
        "\n",
        "def plot(data, legend=None, title=\"\", log=False):\n",
        "    def _plot_scaled(curve):\n",
        "        if log:\n",
        "            plt.semilogy(curve)\n",
        "        else:\n",
        "            plt.plot(curve)\n",
        "    if not hasattr(data[0], '__iter__'):\n",
        "        _plot_scaled(data)\n",
        "    else:\n",
        "        for curve in data:\n",
        "            _plot_scaled(curve)\n",
        "    if legend is not None:\n",
        "        plt.legend(legend)\n",
        "    plt.title(title)\n",
        "    plt.show()\n",
        "    plt.close()\n",
        "\n",
        "\n",
        "def seeds_plot(list_list, x_values=None, legend=None, color=None, style=None, log=False, offset=0, confidence=True):\n",
        "    nb_samples = len(list_list)\n",
        "    if x_values is None:\n",
        "        x_values = list(range(len(list_list[0])))[offset:]\n",
        "    arr = np.array(list_list)\n",
        "    arr = arr[:, offset:]\n",
        "    vals = np.mean(arr, axis=0)\n",
        "    if legend:\n",
        "        if log:\n",
        "            plt.semilogy(x_values, vals, label=legend, linestyle=style, color=color)\n",
        "        else:\n",
        "            plt.plot(x_values, vals, label=legend, linestyle=style, color=color)\n",
        "    else:\n",
        "        if log:\n",
        "            plt.semilogy(x_values, vals, linestyle=style, color=color)\n",
        "        else:\n",
        "            plt.plot(x_values, vals, linestyle=style, color=color)\n",
        "    if confidence:\n",
        "        confs = 1.96 * np.std(arr, axis=0) / nb_samples**0.5\n",
        "        plt.fill_between(list(x_values), vals - confs, vals + confs, alpha=0.1, color=color)\n",
        "    return np.max(vals)\n",
        "\n",
        "\n",
        "def seeds_plot_together(\n",
        "    all_curves, legends=None, x_values=None, title=\"\",\n",
        "    log=False, offset=0, confidence=True, vlines=[], hlines=[], xlab=None, ylab=None,\n",
        "    fsize=11, ranges=(None, None), figsize = (5, 5), save_name = None):\n",
        "    \"\"\" all_curves: order 3 array/list of list of list \"\"\"\n",
        "    plt.figure(figsize = figsize)\n",
        "    xmax, ymax = ranges\n",
        "    colors = [ \"blue\", \"red\", \"green\", \"orange\" , \"purple\", \"black\"]\n",
        "    styles = [\"-\", \"--\", \"-.\", \":\", \"-\"]\n",
        "    if legends is None:\n",
        "        legends = [None] * len(all_curves)\n",
        "    max_vals = []\n",
        "    for curve, color, style, legend in zip(all_curves, colors, styles, legends):\n",
        "        max_vals.append(seeds_plot(curve, x_values=x_values, color=color, style=style, legend=legend, log=log, offset=offset, confidence=confidence))\n",
        "    for x in vlines:\n",
        "        plt.axvline(x)\n",
        "    for y in hlines:\n",
        "        plt.axhline(y, color = \"red\")\n",
        "    if legend is not None:\n",
        "        plt.legend(prop={'size': fsize})\n",
        "    plt.title(title)\n",
        "    plt.xlabel(xlab, size=fsize)\n",
        "    plt.ylabel(ylab, size=fsize)\n",
        "    if save_name:\n",
        "        plt.savefig(save_name, format=\"pdf\", bbox_inches=\"tight\")\n",
        "    plt.show()\n",
        "    plt.close()\n",
        "\n",
        "\n",
        "def plot_corr(vals1, vals2, title=\"\", burn_in=0, ps=1, ls=1):\n",
        "    plt.scatter(vals1[burn_in:], vals2[burn_in:], s=ps)\n",
        "    plt.plot([val[0][0] for val in vals1[burn_in:]], [val[0][0] for val in vals2[burn_in:]], lw=ls)\n",
        "    plt.title(title)\n",
        "    plt.show()\n",
        "\n",
        "def compute_density(mat):\n",
        "    high, width = mat.shape\n",
        "    return np.count_nonzero(np.isnan(mat) == False) / high / width\n"
      ]
    },
    {
      "cell_type": "markdown",
      "metadata": {
        "id": "NW5QJaIV449t"
      },
      "source": [
        "## Synthetic Data"
      ]
    },
    {
      "cell_type": "code",
      "execution_count": null,
      "metadata": {
        "id": "M7bNHlF8MX3D"
      },
      "outputs": [],
      "source": [
        "def truncated_exp(theta_diff):\n",
        "    # If the difference is zero, return a random number between -1 and 1\n",
        "    if theta_diff == 0:\n",
        "        return np.random.uniform(-1, 1)\n",
        "    sample = 3\n",
        "    param = np.absolute(theta_diff)\n",
        "    while sample > 2:\n",
        "        sample  = np.random.exponential(1/param)\n",
        "    return  - (sample - 1) * theta_diff / param\n",
        "\n",
        "\n",
        "def sample_r(density, theta_diff):\n",
        "    return 1\n",
        "\n",
        "def gen_data(nb_items, f_true, sigma, p_c):\n",
        "    \"\"\"\n",
        "    Generate comparison matrices and true score values.\n",
        "\n",
        "    Parameters:\n",
        "    - nb_items: Number of items to be generated\n",
        "    - f_true: Placeholder parameter, currently unused\n",
        "    - sigma: Standard deviation for the normal distribution to generate theta_true\n",
        "    - p_c: Probability used in binomial sampling to create the mask\n",
        "\n",
        "    Returns:\n",
        "    - comp_mat_c: Comparison matrix with some values masked\n",
        "    - comp_mat: Original comparison matrix\n",
        "    - theta_true: True values of theta\n",
        "    \"\"\"\n",
        "    theta_true = np.random.normal(0, sigma, nb_items)\n",
        "    comp_mat = np.zeros((nb_items, nb_items))\n",
        "    # Fill the comparison matrix using the truncated exponential function\n",
        "    for i in range(nb_items):\n",
        "        for j in range(i + 1, nb_items):\n",
        "            theta_ij = theta_true[i] - theta_true[j]\n",
        "            r_ij = truncated_exp(theta_ij) # r_ij = sample_r(theta_ij, f_true)\n",
        "            comp_mat[i][j] = r_ij\n",
        "            comp_mat[j][i] = - r_ij\n",
        "\n",
        "    # Create a mask for the provided comparisons\n",
        "    mask = np.random.binomial(1, p=p_c, size=(nb_items, nb_items)) == 1\n",
        "    for i in range(nb_items):\n",
        "        mask[i][i] = False\n",
        "        for j in range(i + 1, nb_items):\n",
        "            mask[j][i] = mask[i][j]\n",
        "    comp_mat_c = copy.copy(comp_mat)\n",
        "    comp_mat_c[mask==False] = np.nan\n",
        "    return comp_mat_c, comp_mat, theta_true # comp_mat_c is the partial graph"
      ]
    },
    {
      "cell_type": "markdown",
      "metadata": {
        "id": "7bHhzNZN47zC"
      },
      "source": [
        "## GBT"
      ]
    },
    {
      "cell_type": "code",
      "execution_count": null,
      "metadata": {
        "id": "_-8VJlerN_Xr"
      },
      "outputs": [],
      "source": [
        "def binarise(comp_mat):\n",
        "    comp_mat_bin = comp_mat > 0\n",
        "    comp_mat_bin = comp_mat_bin.float()\n",
        "    comp_mat_bin[comp_mat.isnan()] = torch.nan\n",
        "    return comp_mat_bin * 2 - 1\n",
        "\n",
        "def discretize(comp_mat, k):\n",
        "   return np.round((comp_mat + 1) / 2 * (k - 1)) / (k - 1) * 2 - 1"
      ]
    },
    {
      "cell_type": "code",
      "execution_count": null,
      "metadata": {
        "id": "Fj8ibb8fsqGl"
      },
      "outputs": [],
      "source": [
        "def phi_bin(theta):\n",
        "    return log(cosh(theta))\n",
        "\n",
        "def phi_kna(theta, k):\n",
        "    val = theta / (k-1)\n",
        "    return log(sinh(k * val) / k / sinh(val) )\n",
        "\n",
        "def phi_poi(theta, lam):\n",
        "    return lam * cosh(theta)\n",
        "\n",
        "def phi_gau(theta, sigma):\n",
        "    return 0.2 * sigma**2 * theta**2\n",
        "\n",
        "def phi_uni(theta):\n",
        "    return log(sinh(theta)/theta)\n",
        "\n",
        "def phi_bet2(theta):\n",
        "    num = theta * cosh(theta) - sinh(theta)\n",
        "    return log(3 * num / (theta**3))"
      ]
    },
    {
      "cell_type": "code",
      "execution_count": null,
      "metadata": {
        "id": "PghPH49Pw7r0"
      },
      "outputs": [],
      "source": [
        "# Defines the loss function for GBT\n",
        "def loss_gbt(scores, comparisons, alpha, phi, **phi_kwargs):\n",
        "    nb_items = len(scores)\n",
        "    reg = alpha * torch.sum(scores**2) / 2\n",
        "    i, j = torch.where(~torch.isnan(comparisons))\n",
        "    valid_indices = j > i\n",
        "    i = i[valid_indices]\n",
        "    j = j[valid_indices]\n",
        "    theta_ij = scores[i] - scores[j]\n",
        "    fit = torch.sum(phi(theta_ij, **phi_kwargs) - comparisons[i, j] * theta_ij)\n",
        "    return reg + fit\n",
        "\n",
        "\n",
        "# Optimizing the loss function using the LBFGS optimizer\n",
        "def compute_scores(comparisons, alpha, phi, nb_steps=10, lr=0.1, **phi_kwargs):\n",
        "    def closure():\n",
        "        lbfgs.zero_grad()\n",
        "        objective = loss_gbt(scores, comparisons, alpha, phi, **phi_kwargs)\n",
        "        objective.backward()\n",
        "        return objective\n",
        "    comparisons = torch.tensor(comparisons, device = device)\n",
        "    nb_items = len(comparisons)\n",
        "    scores = torch.normal(0, 1, (nb_items, ), requires_grad=True, dtype=float, device = device)\n",
        "    lbfgs = torch.optim.LBFGS ((scores, ))\n",
        "    hist_train = []\n",
        "    for step in range(nb_steps):\n",
        "        loss = loss_gbt(scores, comparisons, alpha, phi, **phi_kwargs)\n",
        "        # print(\"iteration: \", str(step), \", loss: \", loss)\n",
        "        lbfgs.step(closure)\n",
        "        hist_train.append(loss.item())\n",
        "    return scores.cpu().detach().numpy() , hist_train\n",
        "\n",
        "\n",
        "\n",
        "# Error metric\n",
        "def error_metric(theta_star, theta_true):\n",
        "    return np.linalg.norm(theta_true - theta_star)**2/np.linalg.norm(theta_true)**2"
      ]
    },
    {
      "cell_type": "markdown",
      "metadata": {
        "id": "_lJX8wbfVCrj"
      },
      "source": [
        "# EXPERIMENTS"
      ]
    },
    {
      "cell_type": "markdown",
      "source": [
        "In order to run each experiment, first run all the above code (Prelimanaries), and then run the appropriate cell."
      ],
      "metadata": {
        "id": "AcAd9eOXGgeT"
      }
    },
    {
      "cell_type": "markdown",
      "metadata": {
        "id": "U2qyX8G-yQRX"
      },
      "source": [
        "## Exp 1 (increasing k compared to uniform)"
      ]
    },
    {
      "cell_type": "code",
      "execution_count": null,
      "metadata": {
        "id": "raCZDAcC4OUR",
        "colab": {
          "base_uri": "https://localhost:8080/",
          "height": 348,
          "referenced_widgets": [
            "2799da9b311443fc997b282b4e4ff29c",
            "2633f831197a4b30bebf64065cf63f7a"
          ]
        },
        "outputId": "71a5947c-ebd4-44ec-c52d-1ea050ea7040"
      },
      "outputs": [
        {
          "output_type": "display_data",
          "data": {
            "text/plain": [
              "Output()"
            ],
            "application/vnd.jupyter.widget-view+json": {
              "version_major": 2,
              "version_minor": 0,
              "model_id": "2799da9b311443fc997b282b4e4ff29c"
            }
          },
          "metadata": {}
        },
        {
          "output_type": "stream",
          "name": "stdout",
          "text": [
            "Done!\n"
          ]
        },
        {
          "output_type": "display_data",
          "data": {
            "text/plain": [
              "<Figure size 400x300 with 1 Axes>"
            ],
            "image/png": "[encoded data removed]"
          },
          "metadata": {}
        }
      ],
      "source": [
        "#paramters:\n",
        "seeds = [1,2,3,4,5,6,7,8,9,10]\n",
        "nb_items = 500\n",
        "f_true = None  # uniform\n",
        "sigma = 1\n",
        "p_c = 0.2\n",
        "alpha = 1\n",
        "f_guessed = f_true\n",
        "nb_steps = 3\n",
        "\n",
        "output_widget = widgets.Output()\n",
        "display(output_widget)\n",
        "\n",
        "err_kna_seed = []\n",
        "err_uni_seed = []\n",
        "\n",
        "\n",
        "#estimtation of the scores for K \\in [2,100]:\n",
        "for seed in seeds:\n",
        "    seedall(seed)\n",
        "    comp_mat_c, comp_mat_full, theta_true = gen_data(nb_items, f_true, sigma, p_c)\n",
        "    k_params = list(range(2, 101, 2))\n",
        "    scores_kna, hists_kna = {}, {}\n",
        "    for k in k_params:\n",
        "\n",
        "        with output_widget:\n",
        "            clear_output(wait=True) # Clear previous output\n",
        "            print(f\"seed:{seed}, k: {k}\")\n",
        "\n",
        "        comp_mat_disc = discretize(comp_mat_c, k)\n",
        "        scores, hist = compute_scores(comp_mat_disc, alpha, phi_kna, nb_steps=nb_steps, k=k)\n",
        "        scores_kna[k] = scores\n",
        "        hists_kna[k] = hist\n",
        "    scores_uni, hist_uni = compute_scores(comp_mat_c, alpha, phi_uni, nb_steps=nb_steps)\n",
        "    errs = []\n",
        "    for k, scores in scores_kna.items():\n",
        "        errs.append(error_metric(scores, theta_true))\n",
        "    err_kna_seed.append(errs)\n",
        "\n",
        "    err_uni = error_metric(scores_uni, theta_true)\n",
        "    err_uni_seed.append(err_uni)\n",
        "print(\"Done!\")\n",
        "seeds_plot_together([err_kna_seed], x_values=k_params, xlab=\"K\", hlines=[sum(err_uni_seed)/ len(err_uni_seed)], ylab=\"NormError\", figsize = (4,3))\n",
        "# to save the plot run the following instead:\n",
        "# seeds_plot_together([err_kna_seed], x_values=k_params, xlab=\"K\", hlines=[sum(err_uni_seed)/ len(err_uni_seed)], ylab=\"NormError\", figsize = (4,3), save_name = f\"{images_dir}/K.pdf\")"
      ]
    },
    {
      "cell_type": "markdown",
      "metadata": {
        "id": "srW-E40yyVpS"
      },
      "source": [
        "## Exp 2 (increasing p_c)"
      ]
    },
    {
      "cell_type": "code",
      "execution_count": null,
      "metadata": {
        "id": "BORbTZpTyXWy",
        "colab": {
          "base_uri": "https://localhost:8080/",
          "height": 349,
          "referenced_widgets": [
            "ac6074f77bbe4d1aa4fb0decce405cec",
            "ac111a4239424472b007fa5ce693b2ac"
          ]
        },
        "outputId": "6a3165a5-5602-45ab-9f3d-28b7ba33a42c"
      },
      "outputs": [
        {
          "output_type": "display_data",
          "data": {
            "text/plain": [
              "Output()"
            ],
            "application/vnd.jupyter.widget-view+json": {
              "version_major": 2,
              "version_minor": 0,
              "model_id": "ac6074f77bbe4d1aa4fb0decce405cec"
            }
          },
          "metadata": {}
        },
        {
          "output_type": "stream",
          "name": "stdout",
          "text": [
            "Done!\n"
          ]
        },
        {
          "output_type": "display_data",
          "data": {
            "text/plain": [
              "<Figure size 400x300 with 1 Axes>"
            ],
            "image/png": "[encoded data removed]"
          },
          "metadata": {}
        }
      ],
      "source": [
        "#paramters:\n",
        "\n",
        "seeds = [1,2,3,4,5,6,7,8,9,10]\n",
        "nb_items = 500\n",
        "f_true = None # uniform\n",
        "sigma = 1\n",
        "alpha = 1\n",
        "f_guessed = f_true\n",
        "nb_steps = 3\n",
        "\n",
        "output_widget = widgets.Output()\n",
        "display(output_widget)\n",
        "\n",
        "#estimtation of the scores for pc \\in [0,1]:\n",
        "\n",
        "\n",
        "p_params =  list(np.arange(0.0, 1.001, 0.03))\n",
        "\n",
        "err_seeds = []\n",
        "for seed in seeds:\n",
        "    scores_p, hists_p = {}, {}\n",
        "    for p_c in p_params:\n",
        "\n",
        "        with output_widget:\n",
        "            clear_output(wait=True) # Clear previous output\n",
        "            print(f\"seed:{seed}, pc: {p_c}\")\n",
        "\n",
        "\n",
        "        seedall(seed)\n",
        "        comp_mat_c, comp_mat_full, theta_true = gen_data(nb_items, f_true, sigma, p_c)\n",
        "        scores, hist = compute_scores(comp_mat_c, alpha, phi_uni, nb_steps=nb_steps)\n",
        "        scores_p[p_c] = scores\n",
        "        hists_p[p_c] = hist\n",
        "\n",
        "    errs = []\n",
        "    for p_c, scores in scores_p.items():\n",
        "        errs.append(error_metric(scores, theta_true))\n",
        "    err_seeds.append(errs)\n",
        "print(\"Done!\")\n",
        "seeds_plot_together([err_seeds], x_values=p_params, xlab=\"$p_c$\", ylab=\"NormError\", figsize = (4,3))\n",
        "# to save the plot run the following instead:\n",
        "# seeds_plot_together([err_seeds], x_values=p_params, xlab=\"$p_c$\", ylab=\"NormError\", figsize = (4,3), save_name = f\"{images_dir}/pc.pdf\")"
      ]
    },
    {
      "cell_type": "markdown",
      "metadata": {
        "id": "iLIvqWVr1_d4"
      },
      "source": [
        "## Exp 3 (comparison alpha-sigma)"
      ]
    },
    {
      "cell_type": "code",
      "source": [
        "#parameters:\n",
        "\n",
        "seeds = [1,2,3,4,5,6,7,8,9,10]\n",
        "nb_items = 500\n",
        "f_true = None # uniform\n",
        "sigma = 1\n",
        "p_c = 0.2\n",
        "f_guessed = f_true\n",
        "nb_steps = 3\n",
        "\n",
        "\n",
        "output_widget = widgets.Output()\n",
        "display(output_widget)\n",
        "\n",
        "#estimtation of the scores for alpha \\in [0,3]:\n",
        "\n",
        "err_seed = []\n",
        "for seed in seeds:\n",
        "    seedall(seed)\n",
        "    comp_mat_c, comp_mat_full, theta_true = gen_data(nb_items, f_true, sigma, p_c)\n",
        "    alpha_params = list(np.arange(0.0, 3.1, 0.1))\n",
        "    scores_alpha, hists_alpha = {}, {}\n",
        "    for alpha in alpha_params:\n",
        "\n",
        "        with output_widget:\n",
        "            clear_output(wait=True) # Clear previous output\n",
        "            print(f\"seed:{seed}, alpha: {alpha}\")\n",
        "\n",
        "        scores, hist = compute_scores(comp_mat_c, alpha, phi_uni, nb_steps=nb_steps)\n",
        "        scores_alpha[alpha] = scores\n",
        "        hists_alpha[alpha] = hist\n",
        "\n",
        "    errs = []\n",
        "    for alpha, scores in scores_alpha.items():\n",
        "        errs.append(error_metric(scores, theta_true))\n",
        "    err_seed.append(errs)\n",
        "\n",
        "print(\"Done!\")\n",
        "seeds_plot_together([err_seed], x_values=alpha_params, xlab='${\\sigma^{-2}}$', ylab=\"NormError\", figsize = (4,3))\n",
        "# to save the plot run the following instead:\n",
        "# seeds_plot_together([err_seed], x_values=alpha_params, xlab='${\\sigma^{-2}}$', ylab=\"NormError\", figsize = (4,3), save_name = f\"{images_dir}/alpha.pdf\")"
      ],
      "metadata": {
        "id": "SoWtbtDSLdkI",
        "colab": {
          "base_uri": "https://localhost:8080/",
          "height": 356,
          "referenced_widgets": [
            "a63a116ed24643aca57d6ef390ed156f",
            "f7ec46085da84dfd98a4db740967d5f2"
          ]
        },
        "outputId": "d9a7cb5c-a435-49fb-a4ff-1f62ba9d2421"
      },
      "execution_count": null,
      "outputs": [
        {
          "output_type": "display_data",
          "data": {
            "text/plain": [
              "Output()"
            ],
            "application/vnd.jupyter.widget-view+json": {
              "version_major": 2,
              "version_minor": 0,
              "model_id": "a63a116ed24643aca57d6ef390ed156f"
            }
          },
          "metadata": {}
        },
        {
          "output_type": "stream",
          "name": "stdout",
          "text": [
            "Done!\n"
          ]
        },
        {
          "output_type": "display_data",
          "data": {
            "text/plain": [
              "<Figure size 400x300 with 1 Axes>"
            ],
            "image/png": "[encoded data removed]"
          },
          "metadata": {}
        }
      ]
    }
  ],
  "metadata": {
    "accelerator": "GPU",
    "colab": {
      "provenance": [],
      "gpuType": "V100"
    },
    "kernelspec": {
      "display_name": "Python 3",
      "name": "python3"
    },
    "language_info": {
      "codemirror_mode": {
        "name": "ipython",
        "version": 3
      },
      "file_extension": ".py",
      "mimetype": "text/x-python",
      "name": "python",
      "nbconvert_exporter": "python",
      "pygments_lexer": "ipython3",
      "version": "3.7.6"
    },
    "widgets": {
      "application/vnd.jupyter.widget-state+json": {
        "2799da9b311443fc997b282b4e4ff29c": {
          "model_module": "@jupyter-widgets/output",
          "model_name": "OutputModel",
          "model_module_version": "1.0.0",
          "state": {
            "_dom_classes": [],
            "_model_module": "@jupyter-widgets/output",
            "_model_module_version": "1.0.0",
            "_model_name": "OutputModel",
            "_view_count": null,
            "_view_module": "@jupyter-widgets/output",
            "_view_module_version": "1.0.0",
            "_view_name": "OutputView",
            "layout": "IPY_MODEL_2633f831197a4b30bebf64065cf63f7a",
            "msg_id": "",
            "outputs": [
              {
                "output_type": "stream",
                "name": "stdout",
                "text": [
                  "seed:10, k: 100\n"
                ]
              }
            ]
          }
        },
        "2633f831197a4b30bebf64065cf63f7a": {
          "model_module": "@jupyter-widgets/base",
          "model_name": "LayoutModel",
          "model_module_version": "1.2.0",
          "state": {
            "_model_module": "@jupyter-widgets/base",
            "_model_module_version": "1.2.0",
            "_model_name": "LayoutModel",
            "_view_count": null,
            "_view_module": "@jupyter-widgets/base",
            "_view_module_version": "1.2.0",
            "_view_name": "LayoutView",
            "align_content": null,
            "align_items": null,
            "align_self": null,
            "border": null,
            "bottom": null,
            "display": null,
            "flex": null,
            "flex_flow": null,
            "grid_area": null,
            "grid_auto_columns": null,
            "grid_auto_flow": null,
            "grid_auto_rows": null,
            "grid_column": null,
            "grid_gap": null,
            "grid_row": null,
            "grid_template_areas": null,
            "grid_template_columns": null,
            "grid_template_rows": null,
            "height": null,
            "justify_content": null,
            "justify_items": null,
            "left": null,
            "margin": null,
            "max_height": null,
            "max_width": null,
            "min_height": null,
            "min_width": null,
            "object_fit": null,
            "object_position": null,
            "order": null,
            "overflow": null,
            "overflow_x": null,
            "overflow_y": null,
            "padding": null,
            "right": null,
            "top": null,
            "visibility": null,
            "width": null
          }
        },
        "ac6074f77bbe4d1aa4fb0decce405cec": {
          "model_module": "@jupyter-widgets/output",
          "model_name": "OutputModel",
          "model_module_version": "1.0.0",
          "state": {
            "_dom_classes": [],
            "_model_module": "@jupyter-widgets/output",
            "_model_module_version": "1.0.0",
            "_model_name": "OutputModel",
            "_view_count": null,
            "_view_module": "@jupyter-widgets/output",
            "_view_module_version": "1.0.0",
            "_view_name": "OutputView",
            "layout": "IPY_MODEL_ac111a4239424472b007fa5ce693b2ac",
            "msg_id": "",
            "outputs": [
              {
                "output_type": "stream",
                "name": "stdout",
                "text": [
                  "seed:10, pc: 0.99\n"
                ]
              }
            ]
          }
        },
        "ac111a4239424472b007fa5ce693b2ac": {
          "model_module": "@jupyter-widgets/base",
          "model_name": "LayoutModel",
          "model_module_version": "1.2.0",
          "state": {
            "_model_module": "@jupyter-widgets/base",
            "_model_module_version": "1.2.0",
            "_model_name": "LayoutModel",
            "_view_count": null,
            "_view_module": "@jupyter-widgets/base",
            "_view_module_version": "1.2.0",
            "_view_name": "LayoutView",
            "align_content": null,
            "align_items": null,
            "align_self": null,
            "border": null,
            "bottom": null,
            "display": null,
            "flex": null,
            "flex_flow": null,
            "grid_area": null,
            "grid_auto_columns": null,
            "grid_auto_flow": null,
            "grid_auto_rows": null,
            "grid_column": null,
            "grid_gap": null,
            "grid_row": null,
            "grid_template_areas": null,
            "grid_template_columns": null,
            "grid_template_rows": null,
            "height": null,
            "justify_content": null,
            "justify_items": null,
            "left": null,
            "margin": null,
            "max_height": null,
            "max_width": null,
            "min_height": null,
            "min_width": null,
            "object_fit": null,
            "object_position": null,
            "order": null,
            "overflow": null,
            "overflow_x": null,
            "overflow_y": null,
            "padding": null,
            "right": null,
            "top": null,
            "visibility": null,
            "width": null
          }
        },
        "a63a116ed24643aca57d6ef390ed156f": {
          "model_module": "@jupyter-widgets/output",
          "model_name": "OutputModel",
          "model_module_version": "1.0.0",
          "state": {
            "_dom_classes": [],
            "_model_module": "@jupyter-widgets/output",
            "_model_module_version": "1.0.0",
            "_model_name": "OutputModel",
            "_view_count": null,
            "_view_module": "@jupyter-widgets/output",
            "_view_module_version": "1.0.0",
            "_view_name": "OutputView",
            "layout": "IPY_MODEL_f7ec46085da84dfd98a4db740967d5f2",
            "msg_id": "",
            "outputs": [
              {
                "output_type": "stream",
                "name": "stdout",
                "text": [
                  "seed:10, alpha: 3.0\n"
                ]
              }
            ]
          }
        },
        "f7ec46085da84dfd98a4db740967d5f2": {
          "model_module": "@jupyter-widgets/base",
          "model_name": "LayoutModel",
          "model_module_version": "1.2.0",
          "state": {
            "_model_module": "@jupyter-widgets/base",
            "_model_module_version": "1.2.0",
            "_model_name": "LayoutModel",
            "_view_count": null,
            "_view_module": "@jupyter-widgets/base",
            "_view_module_version": "1.2.0",
            "_view_name": "LayoutView",
            "align_content": null,
            "align_items": null,
            "align_self": null,
            "border": null,
            "bottom": null,
            "display": null,
            "flex": null,
            "flex_flow": null,
            "grid_area": null,
            "grid_auto_columns": null,
            "grid_auto_flow": null,
            "grid_auto_rows": null,
            "grid_column": null,
            "grid_gap": null,
            "grid_row": null,
            "grid_template_areas": null,
            "grid_template_columns": null,
            "grid_template_rows": null,
            "height": null,
            "justify_content": null,
            "justify_items": null,
            "left": null,
            "margin": null,
            "max_height": null,
            "max_width": null,
            "min_height": null,
            "min_width": null,
            "object_fit": null,
            "object_position": null,
            "order": null,
            "overflow": null,
            "overflow_x": null,
            "overflow_y": null,
            "padding": null,
            "right": null,
            "top": null,
            "visibility": null,
            "width": null
          }
        }
      }
    }
  },
  "nbformat": 4,
  "nbformat_minor": 0
}